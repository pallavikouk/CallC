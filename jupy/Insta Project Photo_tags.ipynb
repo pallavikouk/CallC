{
 "cells": [
  {
   "cell_type": "code",
   "execution_count": 1,
   "id": "b823ed6c",
   "metadata": {},
   "outputs": [],
   "source": [
    "import pandas as pd\n",
    "import numpy as np"
   ]
  },
  {
   "cell_type": "code",
   "execution_count": 2,
   "id": "5e6501a1",
   "metadata": {},
   "outputs": [],
   "source": [
    "# Follows DataFrame Load\n",
    "def read_data_from_csv():\n",
    "    photo_tags=pd.read_csv('photo_tags.csv')\n",
    "    return photo_tags"
   ]
  },
  {
   "cell_type": "code",
   "execution_count": 3,
   "id": "add6e4bf",
   "metadata": {},
   "outputs": [],
   "source": [
    "# Follows Data Cleaning\n",
    "# Required Fields\n",
    "# 1.photo_id\n",
    "# 2.tag_id\n",
    "def data_cleaning():\n",
    "    photo_tags=read_data_from_csv()\n",
    "    photo_tags.drop('user id',axis=1,inplace=True)\n",
    "    photo_tags.rename(columns={\n",
    "        'photo':'photo_id',\n",
    "        'tag ID':'tag_id'\n",
    "    },inplace=True)\n",
    "    photo_tags.to_csv('photo_tags_cleaned.csv')\n",
    "    return photo_tags"
   ]
  },
  {
   "cell_type": "code",
   "execution_count": 4,
   "id": "38342da8",
   "metadata": {},
   "outputs": [],
   "source": [
    "# Main Task Runner Code\n",
    "def task_runner():\n",
    "    data_cleaning()"
   ]
  },
  {
   "cell_type": "code",
   "execution_count": 5,
   "id": "d5823d17",
   "metadata": {},
   "outputs": [],
   "source": [
    "# Call the main Task Runner Function\n",
    "task_runner()"
   ]
  },
  {
   "cell_type": "code",
   "execution_count": null,
   "id": "e9ecf365",
   "metadata": {},
   "outputs": [],
   "source": []
  },
  {
   "cell_type": "code",
   "execution_count": null,
   "id": "2a634c50",
   "metadata": {},
   "outputs": [],
   "source": []
  }
 ],
 "metadata": {
  "kernelspec": {
   "display_name": "Python 3 (ipykernel)",
   "language": "python",
   "name": "python3"
  },
  "language_info": {
   "codemirror_mode": {
    "name": "ipython",
    "version": 3
   },
   "file_extension": ".py",
   "mimetype": "text/x-python",
   "name": "python",
   "nbconvert_exporter": "python",
   "pygments_lexer": "ipython3",
   "version": "3.8.10"
  }
 },
 "nbformat": 4,
 "nbformat_minor": 5
}
